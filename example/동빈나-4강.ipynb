{
 "cells": [
  {
   "cell_type": "code",
   "execution_count": 9,
   "metadata": {},
   "outputs": [
    {
     "name": "stdout",
     "output_type": "stream",
     "text": [
      "0 4606909000.0 [10354.242] [2057.7537]\n",
      "500 8686830.0 [25537.775] [1948.9326]\n",
      "1000 8633804.0 [25627.543] [1504.4003]\n",
      "1500 8632678.0 [25640.625] [1439.625]\n",
      "2000 8632659.0 [25642.533] [1430.1809]\n",
      "2500 8632648.0 [25642.807] [1428.8192]\n",
      "3000 8632651.0 [25642.844] [1428.6328]\n",
      "3500 8632656.0 [25642.848] [1428.6133]\n",
      "4000 8632656.0 [25642.848] [1428.6133]\n",
      "4500 8632656.0 [25642.848] [1428.6133]\n",
      "5000 8632656.0 [25642.848] [1428.6133]\n",
      "[206571.39]\n"
     ]
    }
   ],
   "source": [
    "import tensorflow as tf\n",
    "xData=[1,2,3,4,5,6,7]  # 하루 노동 시간\n",
    "yData=[25000,55000,75000,110000,128000,155000,180000]  # 하루 매출\n",
    "w=tf.Variable(tf.random_uniform([1],-100,100)) # -100~100 사이의 값 랜덤으로 값 들어감\n",
    "b=tf.Variable(tf.random_uniform([1],-100,100)) # y 절편\n",
    "x=tf.placeholder(tf.float32) \n",
    "y=tf.placeholder(tf.float32) # placeholder이라는 하나의 틀을 만들어줌\n",
    "h=w*x+b  \n",
    "cost = tf.reduce_mean(tf.square(h-y))  # 평균 값 정해줌\n",
    "a=tf.Variable(0.01)\n",
    "optimizer =tf.train.GradientDescentOptimizer(a)\n",
    "train = optimizer.minimize(cost)\n",
    "init=tf.global_variables_initializer()\n",
    "sess=tf.Session()\n",
    "sess.run(init)\n",
    "for i in range(5001):\n",
    "    sess.run(train, feed_dict={x: xData, y: yData})\n",
    "    if i%500 ==0:\n",
    "        print(i, sess.run(cost,feed_dict={x:xData, y:yData}), sess.run(w),sess.run(b))\n",
    "print(sess.run(h,feed_dict={x:[8]}))"
   ]
  },
  {
   "cell_type": "code",
   "execution_count": null,
   "metadata": {},
   "outputs": [],
   "source": []
  }
 ],
 "metadata": {
  "kernelspec": {
   "display_name": "Python 3",
   "language": "python",
   "name": "python3"
  },
  "language_info": {
   "codemirror_mode": {
    "name": "ipython",
    "version": 3
   },
   "file_extension": ".py",
   "mimetype": "text/x-python",
   "name": "python",
   "nbconvert_exporter": "python",
   "pygments_lexer": "ipython3",
   "version": "3.5.5"
  }
 },
 "nbformat": 4,
 "nbformat_minor": 2
}
