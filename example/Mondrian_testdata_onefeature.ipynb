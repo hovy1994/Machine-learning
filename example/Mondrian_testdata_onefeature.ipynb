{
 "cells": [
  {
   "cell_type": "code",
   "execution_count": 1,
   "metadata": {},
   "outputs": [
    {
     "ename": "ImportError",
     "evalue": "cannot import name 'cross_validation' from 'sklearn' (C:\\ProgramData\\Anaconda3\\lib\\site-packages\\sklearn\\__init__.py)",
     "output_type": "error",
     "traceback": [
      "\u001b[1;31m---------------------------------------------------------------------------\u001b[0m",
      "\u001b[1;31mImportError\u001b[0m                               Traceback (most recent call last)",
      "\u001b[1;32m<ipython-input-1-a901f5d96380>\u001b[0m in \u001b[0;36m<module>\u001b[1;34m\u001b[0m\n\u001b[1;32m----> 1\u001b[1;33m \u001b[1;32mfrom\u001b[0m \u001b[0msklearn\u001b[0m \u001b[1;32mimport\u001b[0m \u001b[0mdatasets\u001b[0m\u001b[1;33m,\u001b[0m \u001b[0mcross_validation\u001b[0m\u001b[1;33m\u001b[0m\u001b[1;33m\u001b[0m\u001b[0m\n\u001b[0m\u001b[0;32m      2\u001b[0m \u001b[1;32mimport\u001b[0m \u001b[0mnumpy\u001b[0m \u001b[1;32mas\u001b[0m \u001b[0mnp\u001b[0m\u001b[1;33m\u001b[0m\u001b[1;33m\u001b[0m\u001b[0m\n\u001b[0;32m      3\u001b[0m \u001b[1;32mimport\u001b[0m \u001b[0mpandas\u001b[0m \u001b[1;32mas\u001b[0m \u001b[0mpd\u001b[0m\u001b[1;33m\u001b[0m\u001b[1;33m\u001b[0m\u001b[0m\n\u001b[0;32m      4\u001b[0m \u001b[1;32mimport\u001b[0m \u001b[0mmatplotlib\u001b[0m\u001b[1;33m.\u001b[0m\u001b[0mpyplot\u001b[0m \u001b[1;32mas\u001b[0m \u001b[0mplt\u001b[0m\u001b[1;33m\u001b[0m\u001b[1;33m\u001b[0m\u001b[0m\n\u001b[0;32m      5\u001b[0m \u001b[1;32mimport\u001b[0m \u001b[0mseaborn\u001b[0m \u001b[1;32mas\u001b[0m \u001b[0msns\u001b[0m\u001b[1;33m\u001b[0m\u001b[1;33m\u001b[0m\u001b[0m\n",
      "\u001b[1;31mImportError\u001b[0m: cannot import name 'cross_validation' from 'sklearn' (C:\\ProgramData\\Anaconda3\\lib\\site-packages\\sklearn\\__init__.py)"
     ]
    }
   ],
   "source": [
    "from sklearn import datasets, cross_validation\n",
    "import numpy as np\n",
    "import pandas as pd\n",
    "import matplotlib.pyplot as plt\n",
    "import seaborn as sns\n",
    "from subprocess import check_output \n",
    "\n",
    "dataset=pd.read_csv('./intial_trainig_stage.csv',index_col='date',parse_dates=['date'])"
   ]
  },
  {
   "cell_type": "code",
   "execution_count": null,
   "metadata": {},
   "outputs": [],
   "source": [
    "datalen=len(dataset)\n",
    "trainlen=int(datalen*0.8)\n",
    "testlen=datalen-trainlen"
   ]
  },
  {
   "cell_type": "code",
   "execution_count": null,
   "metadata": {},
   "outputs": [],
   "source": [
    "training_set=dataset.iloc[0:trainlen,0].values\n",
    "test_set=dataset.iloc[trainlen:datalen,0].values"
   ]
  },
  {
   "cell_type": "code",
   "execution_count": null,
   "metadata": {},
   "outputs": [],
   "source": []
  },
  {
   "cell_type": "code",
   "execution_count": null,
   "metadata": {},
   "outputs": [],
   "source": [
    "#변경 이전\n",
    "X_train=[]\n",
    "y_train=[]\n",
    "for i in range(0,trainlen-1):\n",
    "    X_train.append(training_set[i])\n",
    "    y_train.append(training_set[i+1])"
   ]
  },
  {
   "cell_type": "code",
   "execution_count": null,
   "metadata": {},
   "outputs": [],
   "source": [
    "#변경 이후\n",
    "training_set_pair=[]\n",
    "for i in range(0,trainlen-1):\n",
    "    training_set_pair.append([training_set[i],training_set[i+1]])"
   ]
  },
  {
   "cell_type": "code",
   "execution_count": null,
   "metadata": {},
   "outputs": [],
   "source": [
    "X_train=np.array(X_train)\n",
    "X_train"
   ]
  },
  {
   "cell_type": "markdown",
   "metadata": {},
   "source": [
    "anomaly detection - 일단 training set에서만 anomaly detection 탐지 및 삭제함"
   ]
  },
  {
   "cell_type": "code",
   "execution_count": null,
   "metadata": {},
   "outputs": [],
   "source": [
    "import rrcf\n",
    "\n",
    "# Set tree parameters\n",
    "num_trees = 40\n",
    "shingle_size = 10\n",
    "tree_size = 256\n",
    "\n",
    "# Create a forest of empty trees\n",
    "forest = []\n",
    "for _ in range(num_trees):\n",
    "    tree = rrcf.RCTree()            \n",
    "    forest.append(tree)\n",
    "    \n",
    "# Use the \"shingle\" generator to create rolling window\n",
    "points = rrcf.shingle(X_train, size=shingle_size)\n",
    "\n",
    "# Create a dict to store anomaly score of each point\n",
    "avg_codisp = {}"
   ]
  },
  {
   "cell_type": "code",
   "execution_count": null,
   "metadata": {},
   "outputs": [],
   "source": [
    "point_len=len(X_train)\n",
    "point_len"
   ]
  },
  {
   "cell_type": "code",
   "execution_count": null,
   "metadata": {},
   "outputs": [],
   "source": [
    "# For each shingle...\n",
    "for index, point in enumerate(points): #enumerate(): (인덱스 번호, 컬렉션의 원소) tuple을 반환\n",
    "    # For each tree in the forest...\n",
    "    for tree in forest:\n",
    "        # If tree is above permitted size, drop the oldest point (FIFO)\n",
    "        if len(tree.leaves) > tree_size:\n",
    "            tree.forget_point(index - tree_size)\n",
    "        # Insert the new point into the tree\n",
    "        tree.insert_point(point, index=index)\n",
    "        # Compute codisp on the new point and take the average among all trees\n",
    "        if not index in avg_codisp:  # 공분산 계수 계산\n",
    "            avg_codisp[index] = 0\n",
    "        avg_codisp[index] += tree.codisp(index) / num_trees "
   ]
  },
  {
   "cell_type": "code",
   "execution_count": null,
   "metadata": {},
   "outputs": [],
   "source": [
    "len(avg_codisp)"
   ]
  },
  {
   "cell_type": "code",
   "execution_count": null,
   "metadata": {},
   "outputs": [],
   "source": []
  },
  {
   "cell_type": "code",
   "execution_count": null,
   "metadata": {},
   "outputs": [],
   "source": [
    "avg_codisp"
   ]
  },
  {
   "cell_type": "markdown",
   "metadata": {},
   "source": [
    "Z-score: 평균값에서 표준편차의 몇배 정도 떨어져 있다 - 개별 데이터 값에서 평균을 빼고 그 값을 표준편차로 나눈 값"
   ]
  },
  {
   "cell_type": "code",
   "execution_count": null,
   "metadata": {},
   "outputs": [],
   "source": [
    "score_mean=np.array(list(avg_codisp.values())).mean()\n",
    "score_mean"
   ]
  },
  {
   "cell_type": "code",
   "execution_count": null,
   "metadata": {},
   "outputs": [],
   "source": [
    "score_std=np.array(list(avg_codisp.values())).std()\n",
    "score_std"
   ]
  },
  {
   "cell_type": "code",
   "execution_count": null,
   "metadata": {},
   "outputs": [],
   "source": [
    "new_training_set=[]\n",
    "\n",
    "for i in range(0,len(avg_codisp)):\n",
    "    t=(avg_codisp[i]-score_mean)/score_std\n",
    "    if t<=3:\n",
    "        new_training_set.append(training_set_pair[i])"
   ]
  },
  {
   "cell_type": "code",
   "execution_count": null,
   "metadata": {},
   "outputs": [],
   "source": [
    "X_train=[]\n",
    "y_train=[]\n",
    "for i in range(0,len(new_training_set)):\n",
    "    X_train.append(new_training_set[i][0])\n",
    "    y_train.append(new_training_set[i][1])"
   ]
  },
  {
   "cell_type": "code",
   "execution_count": null,
   "metadata": {},
   "outputs": [],
   "source": []
  },
  {
   "cell_type": "code",
   "execution_count": null,
   "metadata": {},
   "outputs": [],
   "source": [
    "# 변경 이전\n",
    "\n",
    "X_test=[]\n",
    "y_test=[]\n",
    "i=0\n",
    "for i in range(0,testlen-1):\n",
    "    X_test.append(test_set[i])\n",
    "    y_test.append(test_set[i+1])"
   ]
  },
  {
   "cell_type": "code",
   "execution_count": null,
   "metadata": {},
   "outputs": [],
   "source": [
    "# 주석\n",
    "#list -> ndim array로 변환\n",
    "X_train=np.reshape(X_train,(-1,1))\n",
    "y_train=np.reshape(y_train,(-1,1))\n",
    "X_test=np.reshape(X_test,(-1,1))\n",
    "y_test=np.reshape(y_test,(-1,1))"
   ]
  },
  {
   "cell_type": "code",
   "execution_count": null,
   "metadata": {},
   "outputs": [],
   "source": [
    "from skgarden import MondrianForestRegressor\n",
    "mfr=MondrianForestRegressor(random_state=1,n_estimators=100,max_depth=50,bootstrap=True)\n",
    "mfr.partial_fit(X_train,y_train)\n",
    "y_pred,y_std=mfr.predict(X_test,return_std=True)"
   ]
  },
  {
   "cell_type": "code",
   "execution_count": null,
   "metadata": {},
   "outputs": [],
   "source": [
    "plt.plot(y_test,color='red',label='Real Price')\n",
    "plt.plot(y_pred,color='blue',label='Predicted Price')\n",
    "plt.xlabel('Time')\n",
    "plt.ylabel('Stock Price')\n",
    "\n",
    "plt.legend()\n",
    "plt.show()"
   ]
  },
  {
   "cell_type": "code",
   "execution_count": null,
   "metadata": {},
   "outputs": [],
   "source": [
    "mfr.score(y_test,y_pred)  # regression을 위한 accuracy_score"
   ]
  }
 ],
 "metadata": {
  "kernelspec": {
   "display_name": "Python 3",
   "language": "python",
   "name": "python3"
  },
  "language_info": {
   "codemirror_mode": {
    "name": "ipython",
    "version": 3
   },
   "file_extension": ".py",
   "mimetype": "text/x-python",
   "name": "python",
   "nbconvert_exporter": "python",
   "pygments_lexer": "ipython3",
   "version": "3.7.3"
  }
 },
 "nbformat": 4,
 "nbformat_minor": 2
}
